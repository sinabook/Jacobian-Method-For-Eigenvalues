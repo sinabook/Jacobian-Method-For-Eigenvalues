{
 "cells": [
  {
   "cell_type": "code",
   "execution_count": 1,
   "metadata": {},
   "outputs": [],
   "source": [
    "import numpy as np\n",
    "import matplotlib.pyplot as plt\n",
    "from matplotlib.patches import Circle"
   ]
  },
  {
   "cell_type": "code",
   "execution_count": 2,
   "metadata": {},
   "outputs": [],
   "source": [
    "# A=np.array([[4,1,1],\n",
    "#             [1,2,1],\n",
    "#             [1,1,9]])\n",
    "# A=np.array([[1,-1,1],\n",
    "#             [-1,-1,0],\n",
    "#             [1,0,-1]])\n",
    "# A=np.array([[-4,5,5],\n",
    "#             [5,6,5],\n",
    "#             [5,5,6]])\n",
    "# A=np.array([[-1,1,-2]\n",
    "#             ,[1,-1,-2]\n",
    "#             ,[-2,-2,-2]])\n",
    "# A=np.array([[1,0,1]\n",
    "#             ,[0,2,1]\n",
    "#             ,[1,1,3]])\n",
    "A=np.array([[1,1],\n",
    "            [1,1]])\n",
    "n=len(A)\n"
   ]
  },
  {
   "cell_type": "code",
   "execution_count": 3,
   "metadata": {},
   "outputs": [
    {
     "name": "stdout",
     "output_type": "stream",
     "text": [
      "Center's of the 2 Circles are:  [1, 1]\n",
      "The radius of each 2 * 2 Circle is [1, 1]\n"
     ]
    }
   ],
   "source": [
    "centers=[]\n",
    "radias=[]\n",
    "for i in range(n):\n",
    "    SumRadias=0\n",
    "    for j in range(n):\n",
    "        if(i!=j):\n",
    "            SumRadias+=abs(A[i][j])\n",
    "        else:\n",
    "            continue\n",
    "    radias.append(SumRadias)\n",
    "    centers.append(A[i][i])\n",
    "print(\"Center's of the\",str(n),\"Circles are: \",centers)\n",
    "print(\"The radius of each\",str(n),\"*\",str(n),\"Circle is\",radias)\n"
   ]
  },
  {
   "cell_type": "code",
   "execution_count": 4,
   "metadata": {},
   "outputs": [],
   "source": [
    "def max_element(matrix):\n",
    "    max_value = abs(matrix[0][1])\n",
    "    max_index = [0,1]\n",
    "\n",
    "    for i in range(matrix.shape[0]):\n",
    "        for j in range(matrix.shape[1]):\n",
    "            if i != j and abs(matrix[i, j]) > max_value:\n",
    "                max_value = abs(matrix[i, j])\n",
    "                max_index = [i, j]\n",
    "\n",
    "    return max_index\n",
    "def solve_equation(a, b, c):\n",
    "    if b == c:\n",
    "        return np.pi / 2  \n",
    "\n",
    "    theta = np.arctan((2*a) /(b-c))    \n",
    "    return (theta/2)\n",
    "\n",
    "def GenerateE(i,j,n,theta):\n",
    "    temp=np.eye(n)\n",
    "    temp[i][i]=np.cos(theta)\n",
    "    temp[j][j]=np.cos(theta)\n",
    "    temp[i][j]=-1*np.sin(theta)\n",
    "    temp[j][i]=np.sin(theta)\n",
    "    return temp\n",
    "def jacobian(A,count,P,max_iter=6):\n",
    "    count+=1\n",
    "    temp=max_element(A)\n",
    "    i,j=temp[0],temp[1]\n",
    "    theta=solve_equation(A[i][j],A[j][j],A[i][i])\n",
    "    \n",
    "    E=GenerateE(i,j,n,theta)\n",
    "    P.append(E)\n",
    "    Et=np.transpose(E)\n",
    "    A_new=np.dot(np.dot(E, A), Et)\n",
    "    if(count==max_iter):\n",
    "        return A_new,P\n",
    "    else:\n",
    "        return jacobian(A_new, count,P, max_iter)\n",
    "\n",
    "\n"
   ]
  },
  {
   "cell_type": "code",
   "execution_count": 5,
   "metadata": {},
   "outputs": [
    {
     "name": "stdout",
     "output_type": "stream",
     "text": [
      "[-2.29934717e-17  2.00000000e+00]\n",
      "[[ 0.70710678 -0.70710678]\n",
      " [ 0.70710678  0.70710678]]\n"
     ]
    }
   ],
   "source": [
    "count=0\n",
    "P=[]\n",
    "B,P=jacobian(A,count,P)\n",
    "eigenvalue=np.array(np.zeros(n))\n",
    "for i in range(n):\n",
    "    for j in range(n):\n",
    "        if(i==j):\n",
    "            eigenvalue[i]=(B[i][j])\n",
    "\n",
    "\n",
    "eigenvectors=np.eye(n)\n",
    "for i in range(len(P)):\n",
    "    eigenvectors=np.dot(eigenvectors,P[i])\n",
    "print(eigenvalue)\n",
    "print(eigenvectors)\n"
   ]
  },
  {
   "cell_type": "code",
   "execution_count": 6,
   "metadata": {},
   "outputs": [
    {
     "data": {
      "image/png": "[encoded data removed]",
      "text/plain": [
       "<Figure size 1000x1000 with 1 Axes>"
      ]
     },
     "metadata": {},
     "output_type": "display_data"
    }
   ],
   "source": [
    "\n",
    "fig , ax=plt.subplots()\n",
    "fig.set_size_inches(10,10)\n",
    "clrs = ['r', 'g', 'b','y']  \n",
    "for i in range(n):\n",
    "    center = (centers[i],0)\n",
    "    radius = radias[i]\n",
    "    circle = Circle(center, radius, fill=False,color=clrs[i])  \n",
    "    ax.add_artist(circle)\n",
    "ax.set_xlim(-5, 5)\n",
    "ax.set_ylim(-5,5)\n",
    "\n",
    "y=np.zeros(len(eigenvalue))\n",
    "ax.plot(eigenvalue,y,marker=\".\", markersize=20, markerfacecolor=\"black\")\n",
    "plt.show()\n",
    "\n"
   ]
  }
 ],
 "metadata": {
  "kernelspec": {
   "display_name": "qenv",
   "language": "python",
   "name": "qenv"
  },
  "language_info": {
   "codemirror_mode": {
    "name": "ipython",
    "version": 3
   },
   "file_extension": ".py",
   "mimetype": "text/x-python",
   "name": "python",
   "nbconvert_exporter": "python",
   "pygments_lexer": "ipython3",
   "version": "3.10.12"
  }
 },
 "nbformat": 4,
 "nbformat_minor": 2
}
